{
 "cells": [
  {
   "cell_type": "code",
   "execution_count": 26,
   "id": "ab464f10",
   "metadata": {},
   "outputs": [],
   "source": [
    "def solution(record):\n",
    "    answer=[]\n",
    "    uid={}\n",
    "    for i in record:\n",
    "        if i.split()[0] != 'Leave':\n",
    "            uid[i.split()[1]] = i.split()[2]\n",
    "\n",
    "    for i in range(len(record)):\n",
    "        if record[i].split()[0] == 'Leave':\n",
    "            answer.append('%s님이 나갔습니다.'%(uid[record[i].split()[1]]))\n",
    "        else:\n",
    "            if record[i].split()[0] == 'Enter':\n",
    "                answer.append('%s님이 들어왔습니다.'%(uid[record[i].split()[1]]))\n",
    "\n",
    "    return(answer)"
   ]
  }
 ],
 "metadata": {
  "kernelspec": {
   "display_name": "Python 3 (ipykernel)",
   "language": "python",
   "name": "python3"
  },
  "language_info": {
   "codemirror_mode": {
    "name": "ipython",
    "version": 3
   },
   "file_extension": ".py",
   "mimetype": "text/x-python",
   "name": "python",
   "nbconvert_exporter": "python",
   "pygments_lexer": "ipython3",
   "version": "3.9.7"
  }
 },
 "nbformat": 4,
 "nbformat_minor": 5
}
