{
 "cells": [
  {
   "cell_type": "code",
   "execution_count": null,
   "id": "e217c3bf",
   "metadata": {},
   "outputs": [],
   "source": [
    "def combination(maximum, num):\n",
    "    i = 0\n",
    "    for i in range((maximum//nu), -1, -1):\n",
    "        maximum -= num * i\n",
    "        combination(maximum, num)"
   ]
  },
  {
   "cell_type": "code",
   "execution_count": 7,
   "id": "ccf34c1b",
   "metadata": {},
   "outputs": [],
   "source": [
    "maximum = 200\n",
    "moneys = [1, 2, 5, 10, 20, 50, 100, 200]\n",
    "count = 0\n",
    "total = 0\n",
    "\n",
    "for m1 in range(0,(maximum//moneys[0])+1):\n",
    "    for m2 in range(0,(maximum//moneys[1])+1):\n",
    "        for m5 in range(0,(maximum//moneys[2])+1):\n",
    "            for m10 in range(0,(maximum//moneys[3])+1):\n",
    "                for m20 in range(0,(maximum//moneys[4])+1):\n",
    "                    for m50 in range(0,(maximum//moneys[5])+1):\n",
    "                        for m100 in range(0,(maximum//moneys[6])+1):\n",
    "                            for m200 in range(0,(maximum//moneys[7])+1):\n",
    "                                total += m1+m2*2+m5*5+m10*10+m20*20+m50*50+m100*100+m200*200\n",
    "                                if total == 2000000:\n",
    "                                    count+=1"
   ]
  },
  {
   "cell_type": "code",
   "execution_count": null,
   "id": "16a2189b",
   "metadata": {},
   "outputs": [],
   "source": [
    "count"
   ]
  },
  {
   "cell_type": "code",
   "execution_count": null,
   "id": "ecd0dc47",
   "metadata": {},
   "outputs": [],
   "source": []
  }
 ],
 "metadata": {
  "kernelspec": {
   "display_name": "Python 3 (ipykernel)",
   "language": "python",
   "name": "python3"
  },
  "language_info": {
   "codemirror_mode": {
    "name": "ipython",
    "version": 3
   },
   "file_extension": ".py",
   "mimetype": "text/x-python",
   "name": "python",
   "nbconvert_exporter": "python",
   "pygments_lexer": "ipython3",
   "version": "3.9.7"
  }
 },
 "nbformat": 4,
 "nbformat_minor": 5
}
