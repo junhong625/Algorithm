{
 "cells": [
  {
   "cell_type": "code",
   "execution_count": null,
   "id": "e992008b",
   "metadata": {},
   "outputs": [],
   "source": [
    "num1 = 1\n",
    "num2 = 2\n",
    "list = []\n",
    "while True:\n",
    "    if num1 >= 4000000:\n",
    "        break\n",
    "    if num1 % 2 == 0:\n",
    "        list.append(num1)\n",
    "    num1 += num2\n",
    "    if num2 % 2 == 0:\n",
    "        list.append(num2)\n",
    "    num2 += num1\n",
    "sum(list)"
   ]
  }
 ],
 "metadata": {
  "kernelspec": {
   "display_name": "Python 3 (ipykernel)",
   "language": "python",
   "name": "python3"
  },
  "language_info": {
   "codemirror_mode": {
    "name": "ipython",
    "version": 3
   },
   "file_extension": ".py",
   "mimetype": "text/x-python",
   "name": "python",
   "nbconvert_exporter": "python",
   "pygments_lexer": "ipython3",
   "version": "3.8.11"
  }
 },
 "nbformat": 4,
 "nbformat_minor": 5
}
