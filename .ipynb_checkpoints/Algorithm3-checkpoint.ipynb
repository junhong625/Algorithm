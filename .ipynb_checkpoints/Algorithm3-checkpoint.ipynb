{
 "cells": [
  {
   "cell_type": "code",
   "execution_count": null,
   "id": "ce373227",
   "metadata": {},
   "outputs": [],
   "source": [
    "num = 600851475143\n",
    "numlist = set()\n",
    "n = 2\n",
    "while num != 1:\n",
    "    if num % n == 0:\n",
    "        num /= n\n",
    "        numlist.add(n)\n",
    "    else :\n",
    "        n += 1\n",
    "print(max(numlist))    "
   ]
  }
 ],
 "metadata": {
  "kernelspec": {
   "display_name": "Python 3 (ipykernel)",
   "language": "python",
   "name": "python3"
  },
  "language_info": {
   "codemirror_mode": {
    "name": "ipython",
    "version": 3
   },
   "file_extension": ".py",
   "mimetype": "text/x-python",
   "name": "python",
   "nbconvert_exporter": "python",
   "pygments_lexer": "ipython3",
   "version": "3.8.11"
  }
 },
 "nbformat": 4,
 "nbformat_minor": 5
}
