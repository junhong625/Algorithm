{
 "cells": [
  {
   "cell_type": "code",
   "execution_count": 34,
   "id": "c7dbe378",
   "metadata": {},
   "outputs": [
    {
     "name": "stdout",
     "output_type": "stream",
     "text": [
      "232792560\n"
     ]
    }
   ],
   "source": [
    "count = 0\n",
    "num = 2520\n",
    "while count != 20:\n",
    "    num += 1\n",
    "    for i in range(1, 21):\n",
    "        if num % i == 0:\n",
    "            count += 1\n",
    "        else : \n",
    "            count = 0\n",
    "            break\n",
    "    \n",
    "print(num)"
   ]
  }
 ],
 "metadata": {
  "kernelspec": {
   "display_name": "Python 3 (ipykernel)",
   "language": "python",
   "name": "python3"
  },
  "language_info": {
   "codemirror_mode": {
    "name": "ipython",
    "version": 3
   },
   "file_extension": ".py",
   "mimetype": "text/x-python",
   "name": "python",
   "nbconvert_exporter": "python",
   "pygments_lexer": "ipython3",
   "version": "3.8.8"
  }
 },
 "nbformat": 4,
 "nbformat_minor": 5
}
