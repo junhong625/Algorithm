{
 "cells": [
  {
   "cell_type": "code",
   "execution_count": 17,
   "id": "350f689a",
   "metadata": {},
   "outputs": [],
   "source": [
    "def solution(s):\n",
    "    answer = ''\n",
    "    number = ['zero', 'one', 'two', 'three', 'four', 'five', 'six', 'seven', 'eight', 'nine']\n",
    "    strings = ''\n",
    "    for i in s:\n",
    "        if i.isdigit() == False:\n",
    "            strings += i\n",
    "            print(strings)\n",
    "            for j in range(len(number)):\n",
    "                if number[j] == strings:\n",
    "                    answer += str(j)\n",
    "                    strings = ''\n",
    "        else:\n",
    "            answer += str(i)\n",
    "    \n",
    "    return answer"
   ]
  }
 ],
 "metadata": {
  "kernelspec": {
   "display_name": "Python 3 (ipykernel)",
   "language": "python",
   "name": "python3"
  },
  "language_info": {
   "codemirror_mode": {
    "name": "ipython",
    "version": 3
   },
   "file_extension": ".py",
   "mimetype": "text/x-python",
   "name": "python",
   "nbconvert_exporter": "python",
   "pygments_lexer": "ipython3",
   "version": "3.9.7"
  }
 },
 "nbformat": 4,
 "nbformat_minor": 5
}
