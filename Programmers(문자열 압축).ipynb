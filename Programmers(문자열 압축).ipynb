{
 "cells": [
  {
   "cell_type": "code",
   "execution_count": 85,
   "id": "5c58f898",
   "metadata": {},
   "outputs": [],
   "source": [
    "def solution(a):\n",
    "    short_s = []\n",
    "    s2 = ''\n",
    "    answer = len(a)\n",
    "    for k in range(len(a)-1):\n",
    "        for j in range(1, (len(a)-k)//2+1):\n",
    "            for i in range(k, len(a), j):\n",
    "                short_s.append(a[i:i+j])\n",
    "            count = 0\n",
    "            base = short_s[0]\n",
    "            for i in range(len(short_s)):\n",
    "                if base == short_s[i]:\n",
    "                    count += 1\n",
    "                else:\n",
    "                    if count > 1:\n",
    "                        s2 += str(count) + base\n",
    "                    else:\n",
    "                        s2 += base\n",
    "                    count = 1\n",
    "                    base = short_s[i]\n",
    "                if i == len(short_s)-1:\n",
    "                    if count > 1:\n",
    "                        s2 += str(count) + base\n",
    "                    else:\n",
    "                        s2 += base\n",
    "            if len(s2)+k < answer:\n",
    "                answer = len(s2) + k\n",
    "            short_s = []\n",
    "            s2 = ''\n",
    "    return answer"
   ]
  }
 ],
 "metadata": {
  "kernelspec": {
   "display_name": "Python 3 (ipykernel)",
   "language": "python",
   "name": "python3"
  },
  "language_info": {
   "codemirror_mode": {
    "name": "ipython",
    "version": 3
   },
   "file_extension": ".py",
   "mimetype": "text/x-python",
   "name": "python",
   "nbconvert_exporter": "python",
   "pygments_lexer": "ipython3",
   "version": "3.9.7"
  }
 },
 "nbformat": 4,
 "nbformat_minor": 5
}
