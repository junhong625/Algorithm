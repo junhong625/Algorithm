{
 "cells": [
  {
   "cell_type": "code",
   "execution_count": null,
   "id": "2151e468",
   "metadata": {},
   "outputs": [],
   "source": [
    "count = 0\n",
    "numlist = []\n",
    "basenum = 1\n",
    "while len(numlist) != 10001:\n",
    "    for i in range(1, basenum+1):\n",
    "        if basenum % i == 0:\n",
    "            count += 1\n",
    "            if count == 3:\n",
    "                break\n",
    "    if count == 2:\n",
    "        numlist.append(basenum)\n",
    "    basenum += 1\n",
    "    count = 0\n",
    "print(numlist[-1])"
   ]
  }
 ],
 "metadata": {
  "kernelspec": {
   "display_name": "Python 3 (ipykernel)",
   "language": "python",
   "name": "python3"
  },
  "language_info": {
   "codemirror_mode": {
    "name": "ipython",
    "version": 3
   },
   "file_extension": ".py",
   "mimetype": "text/x-python",
   "name": "python",
   "nbconvert_exporter": "python",
   "pygments_lexer": "ipython3",
   "version": "3.8.8"
  }
 },
 "nbformat": 4,
 "nbformat_minor": 5
}
