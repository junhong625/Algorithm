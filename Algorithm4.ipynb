{
 "cells": [
  {
   "cell_type": "code",
   "execution_count": 21,
<<<<<<< HEAD
   "id": "2ee0b1bb",
=======
   "id": "505475b0",
>>>>>>> 1b2ce90efca939bfcd0577e86aa00f94cbb4bab9
   "metadata": {},
   "outputs": [
    {
     "name": "stdout",
     "output_type": "stream",
     "text": [
      "906609\n"
     ]
    }
   ],
   "source": [
    "nlist = []\n",
    "for num1 in range(100, 999):\n",
    "    for num2 in range(100, 999):\n",
    "        result = num1 * num2\n",
    "        palindrome  = str(result) \n",
    "        n = 0\n",
    "        if len(palindrome)%2 == 0:\n",
    "            for i in range(len(palindrome)//2):\n",
    "                if palindrome[i] == palindrome[-(i+1)]:\n",
    "                    n+=1\n",
    "                else :\n",
    "                    n = 0\n",
    "                    break\n",
    "\n",
    "        if n == len(palindrome)/2:\n",
    "            nlist.append(palindrome)\n",
    "        \n",
    "print(max(nlist))"
   ]
  }
 ],
 "metadata": {
  "kernelspec": {
   "display_name": "Python 3 (ipykernel)",
   "language": "python",
   "name": "python3"
  },
  "language_info": {
   "codemirror_mode": {
    "name": "ipython",
    "version": 3
   },
   "file_extension": ".py",
   "mimetype": "text/x-python",
   "name": "python",
   "nbconvert_exporter": "python",
   "pygments_lexer": "ipython3",
   "version": "3.8.11"
  }
 },
 "nbformat": 4,
 "nbformat_minor": 5
}
