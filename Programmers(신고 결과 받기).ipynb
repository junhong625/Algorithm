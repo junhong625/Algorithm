{
 "cells": [
  {
   "cell_type": "code",
   "execution_count": 2,
   "id": "bbbea6b3",
   "metadata": {},
   "outputs": [],
   "source": [
    "id_list = [\"muzi\", \"frodo\", \"apeach\", \"neo\"]"
   ]
  },
  {
   "cell_type": "code",
   "execution_count": 3,
   "id": "c0bd8090",
   "metadata": {},
   "outputs": [],
   "source": [
    "report = [\"muzi frodo\",\"apeach frodo\",\"frodo neo\",\"muzi neo\",\"apeach muzi\"]"
   ]
  },
  {
   "cell_type": "code",
   "execution_count": 5,
   "id": "a38f8d11",
   "metadata": {},
   "outputs": [],
   "source": [
    "report_count = [0 for a in range(len(id_list))]\n",
    "answer = [0 for a in range(len(id_list))]"
   ]
  },
  {
   "cell_type": "code",
   "execution_count": 6,
   "id": "ea922be1",
   "metadata": {},
   "outputs": [],
   "source": [
    "import pandas as pd"
   ]
  },
  {
   "cell_type": "code",
   "execution_count": 40,
   "id": "785f39a2",
   "metadata": {},
   "outputs": [],
   "source": [
    "report = list(set(report))"
   ]
  },
  {
   "cell_type": "code",
   "execution_count": 50,
   "id": "1a7abff7",
   "metadata": {},
   "outputs": [
    {
     "data": {
      "text/plain": [
       "['muzi neo', 'apeach muzi', 'apeach frodo', 'frodo neo', 'muzi frodo']"
      ]
     },
     "execution_count": 50,
     "metadata": {},
     "output_type": "execute_result"
    }
   ],
   "source": [
    "report"
   ]
  },
  {
   "cell_type": "code",
   "execution_count": 55,
   "id": "d731c203",
   "metadata": {},
   "outputs": [
    {
     "name": "stdout",
     "output_type": "stream",
     "text": [
      "[0, 2, 0, 2]\n"
     ]
    }
   ],
   "source": [
    "answer = [0 for a in range(len(id_list))]\n",
    "\n",
    "for j in range(len(id_list)):\n",
    "    count = 0\n",
    "    for i in range(len(report)):\n",
    "        if report[i].split()[1] == id_list[j]:\n",
    "            count += 1\n",
    "            \n",
    "    if count >= k:\n",
    "        for a in range(len(report)):\n",
    "            if id_list[j] == report[a].split()[1]:\n",
    "                answer[j] += 1\n",
    "                \n",
    "print(answer)"
   ]
  },
  {
   "cell_type": "code",
   "execution_count": 62,
   "id": "9db46862",
   "metadata": {},
   "outputs": [
    {
     "name": "stdout",
     "output_type": "stream",
     "text": [
      "[2, 1, 1, 0]\n"
     ]
    }
   ],
   "source": [
    "answer = [0 for a in range(len(id_list))]\n",
    "report = list(set(report))\n",
    "reporter = ''\n",
    "for j in range(len(id_list)):\n",
    "    count = 0\n",
    "    for i in range(len(report)):\n",
    "        if report[i].split()[1] == id_list[j]:\n",
    "            count += 1\n",
    "            if count >= k:\n",
    "                break\n",
    "            \n",
    "    if count >= k:\n",
    "        for a in range(len(report)):\n",
    "            if id_list[j] == report[a].split()[1]:\n",
    "                reporter += report[a].split()[0]\n",
    "                \n",
    "for j in range(len(id_list)):\n",
    "    answer[j] = reporter.count(id_list[j])\n",
    "                \n",
    "print(answer)"
   ]
  },
  {
   "cell_type": "code",
   "execution_count": 57,
   "id": "a34fe3ac",
   "metadata": {},
   "outputs": [
    {
     "data": {
      "text/plain": [
       "0"
      ]
     },
     "execution_count": 57,
     "metadata": {},
     "output_type": "execute_result"
    }
   ],
   "source": [
    "report.count('frodo')"
   ]
  },
  {
   "cell_type": "code",
   "execution_count": 48,
   "id": "32d7ac4f",
   "metadata": {},
   "outputs": [
    {
     "data": {
      "text/plain": [
       "'muzi neo'"
      ]
     },
     "execution_count": 48,
     "metadata": {},
     "output_type": "execute_result"
    }
   ],
   "source": [
    "data.report[0]"
   ]
  },
  {
   "cell_type": "code",
   "execution_count": 71,
   "id": "952be366",
   "metadata": {},
   "outputs": [
    {
     "name": "stdout",
     "output_type": "stream",
     "text": [
      "[2, 1, 1, 0]\n"
     ]
    }
   ],
   "source": [
    "answer = [0 for a in range(len(id_list))]\n",
    "report = list(set(report))\n",
    "r1 = [report[i].split()[1] for i in range(len(report))]\n",
    "r2 = []\n",
    "for j in range(len(id_list)):\n",
    "    if r1.count(id_list[j]) >= k:\n",
    "        for l in range(len(report)):\n",
    "            if report[l].split()[1] == id_list[j]:\n",
    "                r2.append(report[l].split()[0])\n",
    "                \n",
    "for m in range(len(id_list)):\n",
    "    answer[m] = r2.count(id_list[m])\n",
    "\n",
    "print(answer)"
   ]
  },
  {
   "cell_type": "code",
   "execution_count": 73,
   "id": "58ebb94e",
   "metadata": {},
   "outputs": [
    {
     "name": "stdout",
     "output_type": "stream",
     "text": [
      "[2, 1, 1, 0]\n"
     ]
    }
   ],
   "source": [
    "answer = [0 for a in range(len(id_list))]\n",
    "report = list(set(report))\n",
    "r1 = [report[i].split()[1] for i in range(len(report))]\n",
    "r2 = []\n",
    "r3 = []\n",
    "for j in range(len(id_list)):\n",
    "    if r1.count(id_list[j]) >= k:\n",
    "        r3.append(id_list[j])\n",
    "        \n",
    "for l in range(len(report)):\n",
    "    for n in range(len(r3)):\n",
    "        if report[l].split()[1] == r3[n]:\n",
    "            r2.append(report[l].split()[0])\n",
    "\n",
    "for m in range(len(id_list)):\n",
    "    answer[m] = r2.count(id_list[m])\n",
    "\n",
    "print(answer)"
   ]
  },
  {
   "cell_type": "code",
   "execution_count": 93,
   "id": "d3b75587",
   "metadata": {},
   "outputs": [
    {
     "data": {
      "text/html": [
       "<div>\n",
       "<style scoped>\n",
       "    .dataframe tbody tr th:only-of-type {\n",
       "        vertical-align: middle;\n",
       "    }\n",
       "\n",
       "    .dataframe tbody tr th {\n",
       "        vertical-align: top;\n",
       "    }\n",
       "\n",
       "    .dataframe thead th {\n",
       "        text-align: right;\n",
       "    }\n",
       "</style>\n",
       "<table border=\"1\" class=\"dataframe\">\n",
       "  <thead>\n",
       "    <tr style=\"text-align: right;\">\n",
       "      <th></th>\n",
       "      <th>r1</th>\n",
       "      <th>r2</th>\n",
       "    </tr>\n",
       "  </thead>\n",
       "  <tbody>\n",
       "    <tr>\n",
       "      <th>0</th>\n",
       "      <td>muzi</td>\n",
       "      <td>neo</td>\n",
       "    </tr>\n",
       "    <tr>\n",
       "      <th>1</th>\n",
       "      <td>apeach</td>\n",
       "      <td>frodo</td>\n",
       "    </tr>\n",
       "    <tr>\n",
       "      <th>2</th>\n",
       "      <td>apeach</td>\n",
       "      <td>muzi</td>\n",
       "    </tr>\n",
       "    <tr>\n",
       "      <th>3</th>\n",
       "      <td>frodo</td>\n",
       "      <td>neo</td>\n",
       "    </tr>\n",
       "    <tr>\n",
       "      <th>4</th>\n",
       "      <td>muzi</td>\n",
       "      <td>frodo</td>\n",
       "    </tr>\n",
       "  </tbody>\n",
       "</table>\n",
       "</div>"
      ],
      "text/plain": [
       "       r1     r2\n",
       "0    muzi    neo\n",
       "1  apeach  frodo\n",
       "2  apeach   muzi\n",
       "3   frodo    neo\n",
       "4    muzi  frodo"
      ]
     },
     "execution_count": 93,
     "metadata": {},
     "output_type": "execute_result"
    }
   ],
   "source": [
    "import pandas as pd\n",
    "\n",
    "answer = [0 for a in range(len(id_list))]\n",
    "report = list(set(report))\n",
    "\n",
    "r1=[]\n",
    "r2=[]\n",
    "\n",
    "for i in range(len(report)):\n",
    "    r1.append(report[i].split()[0])\n",
    "    r2.append(report[i].split()[1])\n",
    "data = pd.DataFrame(r1, columns=['r1'])\n",
    "data['r2'] = r2\n",
    "for i in range(len(data)):\n",
    "    data"
   ]
  },
  {
   "cell_type": "code",
   "execution_count": 94,
   "id": "54f83f08",
   "metadata": {},
   "outputs": [
    {
     "data": {
      "text/plain": [
       "0      neo\n",
       "1    frodo\n",
       "2     muzi\n",
       "3      neo\n",
       "4    frodo\n",
       "Name: r2, dtype: object"
      ]
     },
     "execution_count": 94,
     "metadata": {},
     "output_type": "execute_result"
    }
   ],
   "source": [
    "data['r2']"
   ]
  },
  {
   "cell_type": "code",
   "execution_count": 95,
   "id": "655ab0ff",
   "metadata": {},
   "outputs": [
    {
     "data": {
      "text/html": [
       "<div>\n",
       "<style scoped>\n",
       "    .dataframe tbody tr th:only-of-type {\n",
       "        vertical-align: middle;\n",
       "    }\n",
       "\n",
       "    .dataframe tbody tr th {\n",
       "        vertical-align: top;\n",
       "    }\n",
       "\n",
       "    .dataframe thead th {\n",
       "        text-align: right;\n",
       "    }\n",
       "</style>\n",
       "<table border=\"1\" class=\"dataframe\">\n",
       "  <thead>\n",
       "    <tr style=\"text-align: right;\">\n",
       "      <th></th>\n",
       "      <th>r1</th>\n",
       "      <th>r2</th>\n",
       "    </tr>\n",
       "  </thead>\n",
       "  <tbody>\n",
       "    <tr>\n",
       "      <th>0</th>\n",
       "      <td>muzi</td>\n",
       "      <td>neo</td>\n",
       "    </tr>\n",
       "    <tr>\n",
       "      <th>3</th>\n",
       "      <td>frodo</td>\n",
       "      <td>neo</td>\n",
       "    </tr>\n",
       "  </tbody>\n",
       "</table>\n",
       "</div>"
      ],
      "text/plain": [
       "      r1   r2\n",
       "0   muzi  neo\n",
       "3  frodo  neo"
      ]
     },
     "execution_count": 95,
     "metadata": {},
     "output_type": "execute_result"
    }
   ],
   "source": [
    "data[data['r2'] == 'neo']"
   ]
  },
  {
   "cell_type": "code",
   "execution_count": 96,
   "id": "a8393c39",
   "metadata": {},
   "outputs": [
    {
     "data": {
      "text/html": [
       "<div>\n",
       "<style scoped>\n",
       "    .dataframe tbody tr th:only-of-type {\n",
       "        vertical-align: middle;\n",
       "    }\n",
       "\n",
       "    .dataframe tbody tr th {\n",
       "        vertical-align: top;\n",
       "    }\n",
       "\n",
       "    .dataframe thead th {\n",
       "        text-align: right;\n",
       "    }\n",
       "</style>\n",
       "<table border=\"1\" class=\"dataframe\">\n",
       "  <thead>\n",
       "    <tr style=\"text-align: right;\">\n",
       "      <th></th>\n",
       "      <th>r1</th>\n",
       "      <th>r2</th>\n",
       "    </tr>\n",
       "  </thead>\n",
       "  <tbody>\n",
       "    <tr>\n",
       "      <th>0</th>\n",
       "      <td>muzi</td>\n",
       "      <td>neo</td>\n",
       "    </tr>\n",
       "    <tr>\n",
       "      <th>1</th>\n",
       "      <td>apeach</td>\n",
       "      <td>frodo</td>\n",
       "    </tr>\n",
       "    <tr>\n",
       "      <th>3</th>\n",
       "      <td>frodo</td>\n",
       "      <td>neo</td>\n",
       "    </tr>\n",
       "    <tr>\n",
       "      <th>4</th>\n",
       "      <td>muzi</td>\n",
       "      <td>frodo</td>\n",
       "    </tr>\n",
       "  </tbody>\n",
       "</table>\n",
       "</div>"
      ],
      "text/plain": [
       "       r1     r2\n",
       "0    muzi    neo\n",
       "1  apeach  frodo\n",
       "3   frodo    neo\n",
       "4    muzi  frodo"
      ]
     },
     "execution_count": 96,
     "metadata": {},
     "output_type": "execute_result"
    }
   ],
   "source": [
    "data[(data['r2'] == 'neo') | (data['r2'] == 'frodo')]"
   ]
  },
  {
   "cell_type": "code",
   "execution_count": 85,
   "id": "c2d36001",
   "metadata": {},
   "outputs": [
    {
     "data": {
      "text/plain": [
       "0     True\n",
       "1    False\n",
       "2    False\n",
       "3     True\n",
       "4    False\n",
       "Name: r2, dtype: bool"
      ]
     },
     "execution_count": 85,
     "metadata": {},
     "output_type": "execute_result"
    }
   ],
   "source": [
    "data"
   ]
  },
  {
   "cell_type": "code",
   "execution_count": 70,
   "id": "52b7fada",
   "metadata": {},
   "outputs": [
    {
     "data": {
      "text/plain": [
       "['muzi neo', 'apeach muzi', 'apeach frodo', 'frodo neo', 'muzi frodo']"
      ]
     },
     "execution_count": 70,
     "metadata": {},
     "output_type": "execute_result"
    }
   ],
   "source": [
    "report"
   ]
  },
  {
   "cell_type": "code",
   "execution_count": 72,
   "id": "4e31ae91",
   "metadata": {},
   "outputs": [
    {
     "data": {
      "text/plain": [
       "['apeach', 'muzi', 'muzi', 'frodo']"
      ]
     },
     "execution_count": 72,
     "metadata": {},
     "output_type": "execute_result"
    }
   ],
   "source": [
    "r2"
   ]
  },
  {
   "cell_type": "code",
   "execution_count": 63,
   "id": "8c517f59",
   "metadata": {},
   "outputs": [],
   "source": [
    "r1 = []\n",
    "r2 = []\n",
    "\n",
    "for i in range(len(report)):\n",
    "    r1.append(report[i].split()[0])\n",
    "    r2.append(report[i].split()[1])"
   ]
  },
  {
   "cell_type": "code",
   "execution_count": 65,
   "id": "de88c718",
   "metadata": {},
   "outputs": [
    {
     "data": {
      "text/plain": [
       "2"
      ]
     },
     "execution_count": 65,
     "metadata": {},
     "output_type": "execute_result"
    }
   ],
   "source": [
    "r2.count('neo')"
   ]
  },
  {
   "cell_type": "code",
   "execution_count": 12,
   "id": "58703ab9",
   "metadata": {},
   "outputs": [
    {
     "data": {
      "text/plain": [
       "(['muzi', 'apeach', 'frodo', 'muzi', 'apeach'],\n",
       " ['frodo', 'frodo', 'neo', 'neo', 'muzi'])"
      ]
     },
     "execution_count": 12,
     "metadata": {},
     "output_type": "execute_result"
    }
   ],
   "source": [
    "r1, r2"
   ]
  },
  {
   "cell_type": "code",
   "execution_count": 21,
   "id": "f75453d1",
   "metadata": {},
   "outputs": [],
   "source": [
    "Data = pd.DataFrame(r1, columns=['R1'])"
   ]
  },
  {
   "cell_type": "code",
   "execution_count": 22,
   "id": "f21929af",
   "metadata": {},
   "outputs": [
    {
     "data": {
      "text/html": [
       "<div>\n",
       "<style scoped>\n",
       "    .dataframe tbody tr th:only-of-type {\n",
       "        vertical-align: middle;\n",
       "    }\n",
       "\n",
       "    .dataframe tbody tr th {\n",
       "        vertical-align: top;\n",
       "    }\n",
       "\n",
       "    .dataframe thead th {\n",
       "        text-align: right;\n",
       "    }\n",
       "</style>\n",
       "<table border=\"1\" class=\"dataframe\">\n",
       "  <thead>\n",
       "    <tr style=\"text-align: right;\">\n",
       "      <th></th>\n",
       "      <th>R1</th>\n",
       "      <th>R2</th>\n",
       "    </tr>\n",
       "  </thead>\n",
       "  <tbody>\n",
       "    <tr>\n",
       "      <th>0</th>\n",
       "      <td>muzi</td>\n",
       "      <td>frodo</td>\n",
       "    </tr>\n",
       "    <tr>\n",
       "      <th>1</th>\n",
       "      <td>apeach</td>\n",
       "      <td>frodo</td>\n",
       "    </tr>\n",
       "    <tr>\n",
       "      <th>2</th>\n",
       "      <td>frodo</td>\n",
       "      <td>neo</td>\n",
       "    </tr>\n",
       "    <tr>\n",
       "      <th>3</th>\n",
       "      <td>muzi</td>\n",
       "      <td>neo</td>\n",
       "    </tr>\n",
       "    <tr>\n",
       "      <th>4</th>\n",
       "      <td>apeach</td>\n",
       "      <td>muzi</td>\n",
       "    </tr>\n",
       "  </tbody>\n",
       "</table>\n",
       "</div>"
      ],
      "text/plain": [
       "       R1     R2\n",
       "0    muzi  frodo\n",
       "1  apeach  frodo\n",
       "2   frodo    neo\n",
       "3    muzi    neo\n",
       "4  apeach   muzi"
      ]
     },
     "execution_count": 22,
     "metadata": {},
     "output_type": "execute_result"
    }
   ],
   "source": [
    "Data['R2'] = R2\n",
    "Data"
   ]
  },
  {
   "cell_type": "code",
   "execution_count": 28,
   "id": "c30fbbeb",
   "metadata": {},
   "outputs": [
    {
     "data": {
      "text/plain": [
       "'frodo'"
      ]
     },
     "execution_count": 28,
     "metadata": {},
     "output_type": "execute_result"
    }
   ],
   "source": [
    "report[1].split()[1] == "
   ]
  },
  {
   "cell_type": "code",
   "execution_count": 32,
   "id": "6b2f6c41",
   "metadata": {},
   "outputs": [],
   "source": [
    "k=2\n",
    "for i in range(len(report)):\n",
    "    r = report[i].split()[1]\n",
    "    for j in range(len(id_list)):\n",
    "        if id_list[j] == r:\n",
    "            report_count[j] += 1"
   ]
  },
  {
   "cell_type": "code",
   "execution_count": 31,
   "id": "cc12e7dd",
   "metadata": {},
   "outputs": [
    {
     "data": {
      "text/plain": [
       "[1, 2, 0, 2]"
      ]
     },
     "execution_count": 31,
     "metadata": {},
     "output_type": "execute_result"
    }
   ],
   "source": [
    "report_count"
   ]
  },
  {
   "cell_type": "code",
   "execution_count": 34,
   "id": "eb152ceb",
   "metadata": {},
   "outputs": [],
   "source": [
    "for idx in range(len(report_count)):\n",
    "    if report_count[idx] >= k:    \n",
    "        for o in range(len(report)):\n",
    "            if report[o].split()[1] == id_list[idx]:\n",
    "                RP = report[o].split()[0]\n",
    "                for p in range(len(id_list)):\n",
    "                    if id_list[p] == RP:\n",
    "                        answer[p] += 1"
   ]
  },
  {
   "cell_type": "code",
   "execution_count": 35,
   "id": "41282ce4",
   "metadata": {},
   "outputs": [
    {
     "data": {
      "text/plain": [
       "[2, 1, 2, 0]"
      ]
     },
     "execution_count": 35,
     "metadata": {},
     "output_type": "execute_result"
    }
   ],
   "source": [
    "answer"
   ]
  },
  {
   "cell_type": "code",
   "execution_count": null,
   "id": "155e4183",
   "metadata": {},
   "outputs": [],
   "source": []
  }
 ],
 "metadata": {
  "kernelspec": {
   "display_name": "Python 3 (ipykernel)",
   "language": "python",
   "name": "python3"
  },
  "language_info": {
   "codemirror_mode": {
    "name": "ipython",
    "version": 3
   },
   "file_extension": ".py",
   "mimetype": "text/x-python",
   "name": "python",
   "nbconvert_exporter": "python",
   "pygments_lexer": "ipython3",
   "version": "3.9.7"
  }
 },
 "nbformat": 4,
 "nbformat_minor": 5
}
