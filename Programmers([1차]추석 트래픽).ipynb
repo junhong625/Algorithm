{
 "cells": [
  {
   "cell_type": "code",
   "execution_count": null,
   "id": "0b0a7d6f",
   "metadata": {},
   "outputs": [],
   "source": [
    "def solution(lines):\n",
    "    start_time = []\n",
    "    end_time = []\n",
    "    max_count = 0\n",
    "\n",
    "    for i in lines:\n",
    "        date, time, running_time = i.split()\n",
    "        hour, minute, second = time.split(':')\n",
    "        second_sum = int((int(hour)*3600+int(minute)*60+float(second))*1000) + int(date[-2:])\n",
    "        start_time.append(second_sum-int(float(running_time[:-1])*1000) + 1)\n",
    "        end_time.append(second_sum)\n",
    "\n",
    "    for i in start_time:\n",
    "        count = 0\n",
    "        for j in range(len(lines)):\n",
    "            if i<= start_time[j] <= i+999 or i<= end_time[j] <= i+999:\n",
    "                count+=1\n",
    "            elif start_time[j] <= i <= end_time[j]:\n",
    "                count+=1\n",
    "        if count > max_count:\n",
    "            max_count = count\n",
    "    \n",
    "    for i in end_time:\n",
    "        count = 0\n",
    "        for j in range(len(lines)):\n",
    "            if i<= start_time[j] <= i+999 or i<= end_time[j] <= i+999:\n",
    "                count+=1\n",
    "            elif start_time[j] <= i <= end_time[j]:\n",
    "                count+=1\n",
    "        if count > max_count:\n",
    "            max_count = count\n",
    "        \n",
    "            \n",
    "    return max_count"
   ]
  }
 ],
 "metadata": {
  "kernelspec": {
   "display_name": "Python 3 (ipykernel)",
   "language": "python",
   "name": "python3"
  },
  "language_info": {
   "codemirror_mode": {
    "name": "ipython",
    "version": 3
   },
   "file_extension": ".py",
   "mimetype": "text/x-python",
   "name": "python",
   "nbconvert_exporter": "python",
   "pygments_lexer": "ipython3",
   "version": "3.9.7"
  }
 },
 "nbformat": 4,
 "nbformat_minor": 5
}
